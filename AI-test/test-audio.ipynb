{
 "cells": [
  {
   "cell_type": "code",
   "execution_count": 6,
   "id": "31b12988",
   "metadata": {},
   "outputs": [
    {
     "name": "stdout",
     "output_type": "stream",
     "text": [
      "\n",
      "\u001b[1m[\u001b[0m\u001b[34;49mnotice\u001b[0m\u001b[1;39;49m]\u001b[0m\u001b[39;49m A new release of pip is available: \u001b[0m\u001b[31;49m25.0.1\u001b[0m\u001b[39;49m -> \u001b[0m\u001b[32;49m25.2\u001b[0m\n",
      "\u001b[1m[\u001b[0m\u001b[34;49mnotice\u001b[0m\u001b[1;39;49m]\u001b[0m\u001b[39;49m To update, run: \u001b[0m\u001b[32;49m/Library/Developer/CommandLineTools/usr/bin/python3 -m pip install --upgrade pip\u001b[0m\n"
     ]
    }
   ],
   "source": [
    "!pip install -q openai-whisper"
   ]
  },
  {
   "cell_type": "code",
   "execution_count": 7,
   "id": "a058149b",
   "metadata": {},
   "outputs": [],
   "source": [
    "import whisper\n",
    "import requests\n",
    "import json"
   ]
  },
  {
   "cell_type": "code",
   "execution_count": 8,
   "id": "a5854910",
   "metadata": {},
   "outputs": [],
   "source": [
    "# Load Whisper model (tiny for low resource usage)\n",
    "model = whisper.load_model(\"tiny\")\n"
   ]
  },
  {
   "cell_type": "code",
   "execution_count": 9,
   "id": "2976ee2f",
   "metadata": {},
   "outputs": [
    {
     "name": "stderr",
     "output_type": "stream",
     "text": [
      "/Users/rumaysa/Library/Python/3.9/lib/python/site-packages/whisper/transcribe.py:132: UserWarning: FP16 is not supported on CPU; using FP32 instead\n",
      "  warnings.warn(\"FP16 is not supported on CPU; using FP32 instead\")\n"
     ]
    },
    {
     "name": "stdout",
     "output_type": "stream",
     "text": [
      "Transcript:  In this video, we're going to cover how we can use both the Thaggresses theorem to calculate the missing length of a triangle, like in this one here, where we're trying to find the length of X. Now, the first thing we need to look at is which question you should actually use by Thaggress 4 in the first place. First, we need to be looking at a right angle triangle. So, if the triangle doesn't have a 90 degree angle, like this one, then we can't use by Thaggress this orbit, and would have to use some other method. You also need to know the length of two of the sides. It doesn't matter which two you know, but you do have to know two of them. Like in this one, where we know the length of three and four. And lastly, there has to be one missing length that we're trying to find. So, X in this case. The equation for Pythaggresses theorem is that a squared plus b squared equals c squared. And it's really important that you memorize this equation because it comes up quite a lot. The letters A, B, and C refer to the three sides of a triangle. C is always the longest side of the triangle, which you go the hypotin use. And it will always be opposite at the right angle. Once we've labeled C, the other two sides will always be A and B. And it doesn't matter which way round you put them. So, we could have A on the left and be on the top, like we have here, or we could swap them over. It doesn't really matter. As long as we have C as our hypotin use and the other two sides are A and B, then we're fine. To use the equation, all we need to do is plug the numbers that correspond to each letter into the equation. So, because A is four and B is three, we're right four squared plus a three squared equals c squared. And to work out what C is, all we need to do is solve it, like we would with any other equation in maths. So, we can simplify it to 16 plus nine equal C squared and then 25 equal C squared. And to get C by itself, we just need to square root both sides, which leaves us with five equals C. So, the length of X must be five. Have a good doing the same thing for this question. So, again, we're trying to work out the length of an unknown side X. To slide before, the first step is a label outside. So, A, B and C. And in this case, the unknown side is C, because that's our longest length. Next, we need to write out our equation. So, A squared plus B squared equals C squared. And then we can plug in our values from the triangle. So, 1.7 squared plus 3.2 squared equals C squared. Or instead of writing C squared, we could put X squared, because we're trying to work out X. So, that's effectively C in this equation. Then the final step is a solve the equation. A question like this will normally be in a calculator paper. So, the best thing to do is put the whole 1.7 squared plus 3.2 squared into the calculator in one row, which gives us 13.13, which has to equal X squared. So, to find X, we need to square root both sides, which to three significant figures, like asked for in the question, would be 3.62. So, the length of our missing side is 3.62 centimeters. Now, one thing to point out, which in sometimes be a bit confusing, is that most examing questions will label the corners for you, like they happen this one. And when they refer to a line, they use the corners it's connected to. So, when they ask us to find the length of X's at, they are asking us to find it is unknown side between X and Z. So, we could put a question mark on this side, because this is the one that we're trying to find. Because we're going to have to use both the addresses there, even though we want to label our sides A, B and C, using the rules that we've already been talking about. So, from this point, we can pretty much ignore the X, Y and Z. So, we write out our equation, A squared plus B squared equal C squared and plug in the values. So, 5.6 squared plus 10.5 squared equal C squared, which if you put it into the calculator, simplifies to 141.61 equal C squared. And if we square every both sides, we find that C is equal to 11.9. And so, the length of X's at is 11.9 centimeters. Let's try one more in this style. So, in this question, we're trying to find the length of A C, which is this one. So, we can give this line a question mark. And from this point onwards, we can ignore the letters that they've given the corners. So, we need to label our sides A, B and C, likely would for any byte-thagrous question, and write out the equation. A squared plus B squared equal C squared. So, that would mean that A squared plus 11 squared equal C squared, which simplifies to 64 plus 121 equal C squared or 185 equal C squared. And if we square every both sides, that gives us 13.6 equal C. And so, we can write our answer as 13.6 centimeters. Anyway, that's everything for this video. So, hope you enjoyed it. Please do give us a like and subscribe. And remember to check out our website by clicking on the link in the top right corner of this screen. And we'll see you again soon.\n"
     ]
    }
   ],
   "source": [
    "audio_file = \"lecture-pytha.mp3\"\n",
    "# Transcribe audio\n",
    "try:\n",
    "    result = model.transcribe(audio_file)\n",
    "    transcript = result[\"text\"]\n",
    "    print(\"Transcript:\", transcript)\n",
    "except Exception as e:\n",
    "    print(f\"Error: {e}\")\n",
    "    transcript = \"\""
   ]
  },
  {
   "cell_type": "code",
   "execution_count": 10,
   "id": "d175dddd",
   "metadata": {},
   "outputs": [
    {
     "name": "stdout",
     "output_type": "stream",
     "text": [
      "API error: HTTPConnectionPool(host='localhost', port=3000): Max retries exceeded with url: /process_note (Caused by NewConnectionError('<urllib3.connection.HTTPConnection object at 0x11fd90220>: Failed to establish a new connection: [Errno 61] Connection refused'))\n"
     ]
    }
   ],
   "source": [
    "# Send transcript to Node.js/Express API\n",
    "def send_to_api(note_id, transcript, endpoint=\"http://localhost:3000/process_note\"):\n",
    "    payload = {\"note_id\": note_id, \"processed_data\": {\"transcript\": transcript}}\n",
    "    try:\n",
    "        response = requests.post(endpoint, json=payload)\n",
    "        print(\"API response:\", response.json() if response.status_code == 200 else f\"Failed: {response.status_code}\")\n",
    "    except Exception as e:\n",
    "        print(f\"API error: {e}\")\n",
    "\n",
    "if transcript:\n",
    "    send_to_api(note_id=1, transcript=transcript)"
   ]
  }
 ],
 "metadata": {
  "kernelspec": {
   "display_name": "Python 3",
   "language": "python",
   "name": "python3"
  },
  "language_info": {
   "codemirror_mode": {
    "name": "ipython",
    "version": 3
   },
   "file_extension": ".py",
   "mimetype": "text/x-python",
   "name": "python",
   "nbconvert_exporter": "python",
   "pygments_lexer": "ipython3",
   "version": "3.9.6"
  }
 },
 "nbformat": 4,
 "nbformat_minor": 5
}
